{
 "cells": [
  {
   "cell_type": "markdown",
   "id": "a1256ea8",
   "metadata": {},
   "source": [
    "# Projeto de redes neurais: modelo de análise e avaliação de asteroides\n",
    "Autora: Renata Leite Leandro"
   ]
  },
  {
   "cell_type": "markdown",
   "id": "d60ed346",
   "metadata": {},
   "source": [
    "## Setup:\n",
    "Alguns pacotes que usaremos neste projeto são:"
   ]
  },
  {
   "cell_type": "code",
   "execution_count": 52,
   "id": "c5e22dbc",
   "metadata": {},
   "outputs": [],
   "source": [
    "import pandas as pd\n",
    "import matplotlib.pyplot as plt\n",
    "import seaborn as sns\n",
    "import numpy as np"
   ]
  },
  {
   "cell_type": "code",
   "execution_count": 53,
   "id": "10d8e6e7",
   "metadata": {},
   "outputs": [],
   "source": [
    "dados = pd.read_csv('neo.csv')    # Leitura do dataset    "
   ]
  },
  {
   "cell_type": "markdown",
   "id": "59757613",
   "metadata": {},
   "source": [
    "## Introdução ao dataset\n",
    "Utilizando o método '.head', podemos observar as 5 primeiras linhas do dataset, o que possibilita também uma análise inicial das colunas que compõem o conjunto de dados. Observe:"
   ]
  },
  {
   "cell_type": "code",
   "execution_count": 54,
   "id": "fad977b4",
   "metadata": {},
   "outputs": [
    {
     "data": {
      "text/html": [
       "<div>\n",
       "<style scoped>\n",
       "    .dataframe tbody tr th:only-of-type {\n",
       "        vertical-align: middle;\n",
       "    }\n",
       "\n",
       "    .dataframe tbody tr th {\n",
       "        vertical-align: top;\n",
       "    }\n",
       "\n",
       "    .dataframe thead th {\n",
       "        text-align: right;\n",
       "    }\n",
       "</style>\n",
       "<table border=\"1\" class=\"dataframe\">\n",
       "  <thead>\n",
       "    <tr style=\"text-align: right;\">\n",
       "      <th></th>\n",
       "      <th>id</th>\n",
       "      <th>name</th>\n",
       "      <th>est_diameter_min</th>\n",
       "      <th>est_diameter_max</th>\n",
       "      <th>relative_velocity</th>\n",
       "      <th>miss_distance</th>\n",
       "      <th>orbiting_body</th>\n",
       "      <th>sentry_object</th>\n",
       "      <th>absolute_magnitude</th>\n",
       "      <th>hazardous</th>\n",
       "    </tr>\n",
       "  </thead>\n",
       "  <tbody>\n",
       "    <tr>\n",
       "      <th>0</th>\n",
       "      <td>2162635</td>\n",
       "      <td>162635 (2000 SS164)</td>\n",
       "      <td>1.198271</td>\n",
       "      <td>2.679415</td>\n",
       "      <td>13569.249224</td>\n",
       "      <td>5.483974e+07</td>\n",
       "      <td>Earth</td>\n",
       "      <td>False</td>\n",
       "      <td>16.73</td>\n",
       "      <td>False</td>\n",
       "    </tr>\n",
       "    <tr>\n",
       "      <th>1</th>\n",
       "      <td>2277475</td>\n",
       "      <td>277475 (2005 WK4)</td>\n",
       "      <td>0.265800</td>\n",
       "      <td>0.594347</td>\n",
       "      <td>73588.726663</td>\n",
       "      <td>6.143813e+07</td>\n",
       "      <td>Earth</td>\n",
       "      <td>False</td>\n",
       "      <td>20.00</td>\n",
       "      <td>True</td>\n",
       "    </tr>\n",
       "    <tr>\n",
       "      <th>2</th>\n",
       "      <td>2512244</td>\n",
       "      <td>512244 (2015 YE18)</td>\n",
       "      <td>0.722030</td>\n",
       "      <td>1.614507</td>\n",
       "      <td>114258.692129</td>\n",
       "      <td>4.979872e+07</td>\n",
       "      <td>Earth</td>\n",
       "      <td>False</td>\n",
       "      <td>17.83</td>\n",
       "      <td>False</td>\n",
       "    </tr>\n",
       "    <tr>\n",
       "      <th>3</th>\n",
       "      <td>3596030</td>\n",
       "      <td>(2012 BV13)</td>\n",
       "      <td>0.096506</td>\n",
       "      <td>0.215794</td>\n",
       "      <td>24764.303138</td>\n",
       "      <td>2.543497e+07</td>\n",
       "      <td>Earth</td>\n",
       "      <td>False</td>\n",
       "      <td>22.20</td>\n",
       "      <td>False</td>\n",
       "    </tr>\n",
       "    <tr>\n",
       "      <th>4</th>\n",
       "      <td>3667127</td>\n",
       "      <td>(2014 GE35)</td>\n",
       "      <td>0.255009</td>\n",
       "      <td>0.570217</td>\n",
       "      <td>42737.733765</td>\n",
       "      <td>4.627557e+07</td>\n",
       "      <td>Earth</td>\n",
       "      <td>False</td>\n",
       "      <td>20.09</td>\n",
       "      <td>True</td>\n",
       "    </tr>\n",
       "  </tbody>\n",
       "</table>\n",
       "</div>"
      ],
      "text/plain": [
       "        id                 name  est_diameter_min  est_diameter_max  \\\n",
       "0  2162635  162635 (2000 SS164)          1.198271          2.679415   \n",
       "1  2277475    277475 (2005 WK4)          0.265800          0.594347   \n",
       "2  2512244   512244 (2015 YE18)          0.722030          1.614507   \n",
       "3  3596030          (2012 BV13)          0.096506          0.215794   \n",
       "4  3667127          (2014 GE35)          0.255009          0.570217   \n",
       "\n",
       "   relative_velocity  miss_distance orbiting_body  sentry_object  \\\n",
       "0       13569.249224   5.483974e+07         Earth          False   \n",
       "1       73588.726663   6.143813e+07         Earth          False   \n",
       "2      114258.692129   4.979872e+07         Earth          False   \n",
       "3       24764.303138   2.543497e+07         Earth          False   \n",
       "4       42737.733765   4.627557e+07         Earth          False   \n",
       "\n",
       "   absolute_magnitude  hazardous  \n",
       "0               16.73      False  \n",
       "1               20.00       True  \n",
       "2               17.83      False  \n",
       "3               22.20      False  \n",
       "4               20.09       True  "
      ]
     },
     "execution_count": 54,
     "metadata": {},
     "output_type": "execute_result"
    }
   ],
   "source": [
    "dados.head()    # Mostra as 5 primeiras linhas do dataset de treino"
   ]
  },
  {
   "cell_type": "markdown",
   "id": "b94100e9",
   "metadata": {},
   "source": [
    "Através dessa pequena amostra do conjunto de dados, deve-se compreender, primeiramente, cada uma das 10 features (ou colunas) presentes no dataset, que será posteriormente separado em treino e teste. Temos, então, que:\n",
    "\n",
    "- id: ID exclusivo para cada asteroide;\n",
    "- name: nome do asteroide dado pela NASA;\n",
    "- est_diameter_min: diâmetro mínimo estimado em km;\n",
    "- est_diameter_max: diâmetro máximo estimado em km;\n",
    "- relative_velocity: velocidade relativa à Terra;\n",
    "- miss_distance: distância perdida em km;\n",
    "- orbiting_body: planeta que o asteroide orbita;\n",
    "- sentry_object: incluído no sentry, sistema automatizado de monitoramento de colisões;\n",
    "- absolute_magnitude: descreve a luminosidade intrínseca;\n",
    "- hazardous: feature booleana que mostra se o asteroide é prejudicial ou não.\n",
    "\n",
    "Juntamente à análise das 90836 linhas que compõem tal dataset, o objetivo deste projeto será a criação de uma rede neural que, com base na observação das diferentes características de cada asteroide, será capaz de predizer aqueles que são potencialmente prejudiciais e aqueles que não o são."
   ]
  },
  {
   "cell_type": "markdown",
   "id": "5466f9ce",
   "metadata": {},
   "source": [
    "# Limpeza de dados\n",
    "Embora o dataset utilizado tenha sido previamente tratado, é importante verificar a qualidade da limpeza dos dados para evitar futuros problemas. Para isso, devemos, inicialmente, investigar se há alguma categoria destoante. Veja abaixo:"
   ]
  },
  {
   "cell_type": "code",
   "execution_count": 55,
   "id": "2331d4a2",
   "metadata": {},
   "outputs": [
    {
     "name": "stdout",
     "output_type": "stream",
     "text": [
      " Valores presentes em orbiting_body\n",
      "0    Earth\n",
      "dtype: object\n",
      "\n",
      " Valores presentes em sentry_object\n",
      "0    False\n",
      "dtype: bool\n",
      "\n",
      " Valores presentes em hazardous\n",
      "0    False\n",
      "1     True\n",
      "dtype: bool\n"
     ]
    }
   ],
   "source": [
    "print(' Valores presentes em orbiting_body')\n",
    "print(pd.Series(dados.orbiting_body.unique()))\n",
    "print('\\n Valores presentes em sentry_object')\n",
    "print(pd.Series(dados.sentry_object.unique()))\n",
    "print('\\n Valores presentes em hazardous')\n",
    "print(pd.Series(dados.hazardous.unique()))"
   ]
  },
  {
   "cell_type": "markdown",
   "id": "0d4ac64f",
   "metadata": {},
   "source": [
    "Em seguida, podemos examinar se existem valores nulos no dataset:"
   ]
  },
  {
   "cell_type": "code",
   "execution_count": 56,
   "id": "4d1604aa",
   "metadata": {},
   "outputs": [
    {
     "data": {
      "text/plain": [
       "id                    0\n",
       "name                  0\n",
       "est_diameter_min      0\n",
       "est_diameter_max      0\n",
       "relative_velocity     0\n",
       "miss_distance         0\n",
       "orbiting_body         0\n",
       "sentry_object         0\n",
       "absolute_magnitude    0\n",
       "hazardous             0\n",
       "dtype: int64"
      ]
     },
     "execution_count": 56,
     "metadata": {},
     "output_type": "execute_result"
    }
   ],
   "source": [
    "dados.isnull().sum()    # Retorna a soma dos valores nulos encontrados"
   ]
  },
  {
   "cell_type": "markdown",
   "id": "c44fe789",
   "metadata": {},
   "source": [
    "Por último, é importante averiguar a presença de valores numéricos aberrantes no dataset, que podem ser procurados através da seguinte tabela:"
   ]
  },
  {
   "cell_type": "code",
   "execution_count": 57,
   "id": "3077c4e4",
   "metadata": {},
   "outputs": [
    {
     "data": {
      "text/html": [
       "<div>\n",
       "<style scoped>\n",
       "    .dataframe tbody tr th:only-of-type {\n",
       "        vertical-align: middle;\n",
       "    }\n",
       "\n",
       "    .dataframe tbody tr th {\n",
       "        vertical-align: top;\n",
       "    }\n",
       "\n",
       "    .dataframe thead th {\n",
       "        text-align: right;\n",
       "    }\n",
       "</style>\n",
       "<table border=\"1\" class=\"dataframe\">\n",
       "  <thead>\n",
       "    <tr style=\"text-align: right;\">\n",
       "      <th></th>\n",
       "      <th>id</th>\n",
       "      <th>est_diameter_min</th>\n",
       "      <th>est_diameter_max</th>\n",
       "      <th>relative_velocity</th>\n",
       "      <th>miss_distance</th>\n",
       "      <th>absolute_magnitude</th>\n",
       "    </tr>\n",
       "  </thead>\n",
       "  <tbody>\n",
       "    <tr>\n",
       "      <th>count</th>\n",
       "      <td>9.083600e+04</td>\n",
       "      <td>90836.000000</td>\n",
       "      <td>90836.000000</td>\n",
       "      <td>90836.000000</td>\n",
       "      <td>9.083600e+04</td>\n",
       "      <td>90836.000000</td>\n",
       "    </tr>\n",
       "    <tr>\n",
       "      <th>mean</th>\n",
       "      <td>1.438288e+07</td>\n",
       "      <td>0.127432</td>\n",
       "      <td>0.284947</td>\n",
       "      <td>48066.918918</td>\n",
       "      <td>3.706655e+07</td>\n",
       "      <td>23.527103</td>\n",
       "    </tr>\n",
       "    <tr>\n",
       "      <th>std</th>\n",
       "      <td>2.087202e+07</td>\n",
       "      <td>0.298511</td>\n",
       "      <td>0.667491</td>\n",
       "      <td>25293.296961</td>\n",
       "      <td>2.235204e+07</td>\n",
       "      <td>2.894086</td>\n",
       "    </tr>\n",
       "    <tr>\n",
       "      <th>min</th>\n",
       "      <td>2.000433e+06</td>\n",
       "      <td>0.000609</td>\n",
       "      <td>0.001362</td>\n",
       "      <td>203.346433</td>\n",
       "      <td>6.745533e+03</td>\n",
       "      <td>9.230000</td>\n",
       "    </tr>\n",
       "    <tr>\n",
       "      <th>25%</th>\n",
       "      <td>3.448110e+06</td>\n",
       "      <td>0.019256</td>\n",
       "      <td>0.043057</td>\n",
       "      <td>28619.020645</td>\n",
       "      <td>1.721082e+07</td>\n",
       "      <td>21.340000</td>\n",
       "    </tr>\n",
       "    <tr>\n",
       "      <th>50%</th>\n",
       "      <td>3.748362e+06</td>\n",
       "      <td>0.048368</td>\n",
       "      <td>0.108153</td>\n",
       "      <td>44190.117890</td>\n",
       "      <td>3.784658e+07</td>\n",
       "      <td>23.700000</td>\n",
       "    </tr>\n",
       "    <tr>\n",
       "      <th>75%</th>\n",
       "      <td>3.884023e+06</td>\n",
       "      <td>0.143402</td>\n",
       "      <td>0.320656</td>\n",
       "      <td>62923.604633</td>\n",
       "      <td>5.654900e+07</td>\n",
       "      <td>25.700000</td>\n",
       "    </tr>\n",
       "    <tr>\n",
       "      <th>max</th>\n",
       "      <td>5.427591e+07</td>\n",
       "      <td>37.892650</td>\n",
       "      <td>84.730541</td>\n",
       "      <td>236990.128088</td>\n",
       "      <td>7.479865e+07</td>\n",
       "      <td>33.200000</td>\n",
       "    </tr>\n",
       "  </tbody>\n",
       "</table>\n",
       "</div>"
      ],
      "text/plain": [
       "                 id  est_diameter_min  est_diameter_max  relative_velocity  \\\n",
       "count  9.083600e+04      90836.000000      90836.000000       90836.000000   \n",
       "mean   1.438288e+07          0.127432          0.284947       48066.918918   \n",
       "std    2.087202e+07          0.298511          0.667491       25293.296961   \n",
       "min    2.000433e+06          0.000609          0.001362         203.346433   \n",
       "25%    3.448110e+06          0.019256          0.043057       28619.020645   \n",
       "50%    3.748362e+06          0.048368          0.108153       44190.117890   \n",
       "75%    3.884023e+06          0.143402          0.320656       62923.604633   \n",
       "max    5.427591e+07         37.892650         84.730541      236990.128088   \n",
       "\n",
       "       miss_distance  absolute_magnitude  \n",
       "count   9.083600e+04        90836.000000  \n",
       "mean    3.706655e+07           23.527103  \n",
       "std     2.235204e+07            2.894086  \n",
       "min     6.745533e+03            9.230000  \n",
       "25%     1.721082e+07           21.340000  \n",
       "50%     3.784658e+07           23.700000  \n",
       "75%     5.654900e+07           25.700000  \n",
       "max     7.479865e+07           33.200000  "
      ]
     },
     "execution_count": 57,
     "metadata": {},
     "output_type": "execute_result"
    }
   ],
   "source": [
    "dados.describe()"
   ]
  },
  {
   "cell_type": "markdown",
   "id": "6466d22c",
   "metadata": {},
   "source": [
    "# Análise de dados\n",
    "Agora que sabemos que nosso dataset encontra-se, de fato, devidamente limpo, podemos focar na análise de dados, essencial para encontrar as features relevantes para a construção de nosso modelo. Faremos isso através da montagem de gráficos, que auxiliarão na visualização de informações e associação de features."
   ]
  },
  {
   "cell_type": "code",
   "execution_count": 58,
   "id": "225a4c8a",
   "metadata": {},
   "outputs": [],
   "source": [
    "sns.set(style=\"darkgrid\")    # Escurece o background dos gráficos"
   ]
  },
  {
   "cell_type": "markdown",
   "id": "2fb97152",
   "metadata": {},
   "source": [
    "## Feature 'hazardous'\n",
    "Considerando que 'orbiting_body' e 'sentry_object' apresentam sempre os mesmos valores ('Earth' e 'False', respectivamente), e, portanto, não exigem análises gráficas, iniciaremos pela verificação da única feature categórica cujos valores dividem-se em mais de uma categoria. Observe:"
   ]
  },
  {
   "cell_type": "code",
   "execution_count": 59,
   "id": "5fa675db",
   "metadata": {},
   "outputs": [
    {
     "data": {
      "image/png": "[encoded data removed]",
      "text/plain": [
       "<Figure size 432x288 with 1 Axes>"
      ]
     },
     "metadata": {},
     "output_type": "display_data"
    }
   ],
   "source": [
    "sns.countplot(x=dados['hazardous'], palette=['blue', 'orange'])\n",
    "plt.xlabel('O asteróide é prejudicial?', loc='right')\n",
    "plt.ylabel('Número de ocorrêcias', loc='top')\n",
    "plt.show()"
   ]
  },
  {
   "cell_type": "markdown",
   "id": "7045640a",
   "metadata": {},
   "source": [
    "Tendo em mente que 'True' significa que o asteróide é potencialmente perigoso e 'False' que não há risco, o gráfico representado acima deixa explícito que, de todos os fragmentos de corpos celestes acompanhados, o número daqueles que podem ser prejudiciais a terra é pequeno, ficando abaixo das 10000 ocorrências (isto é, pouco mais de 10% do total analisado). Sabendo que esta coluna retrata justamente o nosso target (isto é, aquilo que queremos predizer), resta investigar as outras features do dataset para determinar aquelas que mais se relacionam à prejudicialidade dos asteróides."
   ]
  },
  {
   "cell_type": "markdown",
   "id": "022e5975",
   "metadata": {},
   "source": [
    "## Feature 'relative_velocity'"
   ]
  },
  {
   "cell_type": "code",
   "execution_count": 60,
   "id": "f9e01955",
   "metadata": {},
   "outputs": [
    {
     "data": {
      "image/png": "[encoded data removed]",
      "text/plain": [
       "<Figure size 432x288 with 1 Axes>"
      ]
     },
     "metadata": {},
     "output_type": "display_data"
    }
   ],
   "source": [
    "cor={False:'blue',True:'orange'}\n",
    "sns.violinplot(x=dados['hazardous'], y=dados['relative_velocity'], palette=cor)\n",
    "plt.xlabel('O asteróide é prejudicial?', loc='right')\n",
    "plt.ylabel('Velocidade relativa à Terra', loc='top')\n",
    "plt.show()"
   ]
  },
  {
   "cell_type": "markdown",
   "id": "a363ce99",
   "metadata": {},
   "source": [
    "Pela observação do violinplot acima, podemos constatar que, em geral, fragmentos de corpos celestes com velocidades relativas à terra maiores são mais nocivos. Isso ocorre porque, embora os formatos de ambas as representações sejam similares (especialmente na faixa entre 50000 e 100000), é possível notar que, enquanto o gráfico em azul mostra-se bastante largo até o valor 50000, o gráfico laranja apresenta-se comparativamente mais robusto a partir da velocidade 100000. Portanto, temos que asteróides menos velozes (abaixo de 25000) são, em geral, menos perigosos; já os mais velozes (acima de 100000) são, em sua maioria, mais perigosos."
   ]
  },
  {
   "cell_type": "markdown",
   "id": "5781cee7",
   "metadata": {},
   "source": [
    "## Feature 'miss_distance'"
   ]
  },
  {
   "cell_type": "code",
   "execution_count": 61,
   "id": "1a9b25d1",
   "metadata": {},
   "outputs": [
    {
     "data": {
      "image/png": "[encoded data removed]",
      "text/plain": [
       "<Figure size 432x288 with 1 Axes>"
      ]
     },
     "metadata": {},
     "output_type": "display_data"
    }
   ],
   "source": [
    "cor={False:'blue',True:'orange'}\n",
    "sns.boxplot(x=dados['hazardous'], y=dados['miss_distance'], palette=cor)\n",
    "plt.xlabel('O asteróide é prejudicial?', loc='right')\n",
    "plt.ylabel('Dstância perdida (km)', loc='top')\n",
    "plt.show()"
   ]
  },
  {
   "cell_type": "markdown",
   "id": "6aa11269",
   "metadata": {},
   "source": [
    "Através do boxplot retratado podemos constatar que, surpreendentemente, a distância perdida do asteróide não parece tão relevante para a definição de sua prejudicialidade. Assim, a diferença entre os diagramas azul e laranja são quase nulas, podendo ser observada apenas pelas desigualdades entre os primeiros quartis (azul mais baixo) e terceiros quartis (laranja um pouco mais alto), que, em maior escala, poderiam indicar que maior a distância perdida, mais perigoso será o asteróide."
   ]
  },
  {
   "cell_type": "markdown",
   "id": "989b6b8c",
   "metadata": {},
   "source": [
    "## Feature 'absolute_magnitude'"
   ]
  },
  {
   "cell_type": "code",
   "execution_count": 62,
   "id": "1509c021",
   "metadata": {},
   "outputs": [
    {
     "data": {
      "image/png": "[encoded data removed]",
      "text/plain": [
       "<Figure size 432x288 with 1 Axes>"
      ]
     },
     "metadata": {},
     "output_type": "display_data"
    }
   ],
   "source": [
    "cor={False:'blue',True:'orange'}\n",
    "sns.violinplot(x=dados['hazardous'], y=dados['absolute_magnitude'], palette=cor)\n",
    "plt.xlabel('O asteróide é prejudicial?', loc='right')\n",
    "plt.ylabel('Magnitude absoluta', loc='top')\n",
    "plt.show()"
   ]
  },
  {
   "cell_type": "markdown",
   "id": "12be91bb",
   "metadata": {},
   "source": [
    "Já em relação à magnitude absoluta, notamos, primeiramente, que os valores mais frequentemente encontrados no dataset variam entre os números 17 e 28. Além disso, temos que o intervalo entre 19 e 22 demonstra ser o mais prejudicial, já que, nessa parte, o violinplot em laranja é expressivamente mais grosso que o azul, indicando não apenas que asteróides dessa magnitude são mais frequentes como também oferecem maior risco ao planeta Terra. Aproximadamente a partir da magnitude 22, porém, os valores laranjas extinguem-se abruptamente, em contraste com a espessura crescente (embora moderada) do gráfico azul. Vale lembrar que os valores em análise referem-se às medidas dos brilhos de cada corpo celeste em questão, e, quanto maior o número da magnitude, menor o brilho aparente do objeto, e vice-versa. Concluí-se, portanto, que os asteróides mais brilhantes de nosso dataset (ou seja, menor magnitude) são, em geral, mais perigosos que os menos brilhantes."
   ]
  },
  {
   "cell_type": "markdown",
   "id": "a0219401",
   "metadata": {},
   "source": [
    "## Feature 'est_diameter_min'"
   ]
  },
  {
   "cell_type": "code",
   "execution_count": 63,
   "id": "71678527",
   "metadata": {},
   "outputs": [
    {
     "data": {
      "image/png": "[encoded data removed]",
      "text/plain": [
       "<Figure size 432x288 with 1 Axes>"
      ]
     },
     "metadata": {},
     "output_type": "display_data"
    }
   ],
   "source": [
    "cor={False:'blue',True:'orange'}\n",
    "sns.boxplot(x=dados['hazardous'], y=dados['est_diameter_min'], palette=cor)\n",
    "plt.xlabel('O asteróide é prejudicial?', loc='right')\n",
    "plt.ylabel('Diâmetro mínimo', loc='top')\n",
    "plt.yscale('log')\n",
    "plt.ylim(0.0001, 10)\n",
    "plt.show()"
   ]
  },
  {
   "cell_type": "markdown",
   "id": "79a33165",
   "metadata": {},
   "source": [
    "No caso da estimativa do diametros mínimo, os boxplots acima dividem, grossamente, dois conjuntos mais frequentes de asteróides: aqueles cujo diâmetro mínimo é estimado entre 0,01 e 0,1, e aqueles cuja estimativa é um pouco maior que 0,1. Embora os diversos outliers deixem claro que tal classificação é bastante generalizada e não diz respeito a todos os fragmentos de corpos celestes, a observação do gráfico é útil por revelar-nos que, em geral, quanto menor o asteróide, menos risco ele representará - ideia reforçada também pelas linhas de mínimo e máximo de cada diagrama, que mostra como a amplitude dos dados varia para menos no boxplot azul e para mais no boxplot laranja."
   ]
  },
  {
   "cell_type": "markdown",
   "id": "dc93891a",
   "metadata": {},
   "source": [
    "## Feature 'est_diameter_max'"
   ]
  },
  {
   "cell_type": "code",
   "execution_count": 64,
   "id": "58435e39",
   "metadata": {},
   "outputs": [
    {
     "data": {
      "image/png": "[encoded data removed]",
      "text/plain": [
       "<Figure size 432x288 with 1 Axes>"
      ]
     },
     "metadata": {},
     "output_type": "display_data"
    }
   ],
   "source": [
    "cor={False:'blue',True:'orange'}\n",
    "sns.boxplot(x=dados['hazardous'], y=dados['est_diameter_max'], palette=cor)\n",
    "plt.xlabel('O asteróide é prejudicial?', loc='right')\n",
    "plt.ylabel('Diâmetro máximo', loc='top')\n",
    "plt.yscale('log')\n",
    "plt.ylim(0.001, 100)\n",
    "plt.show()"
   ]
  },
  {
   "cell_type": "markdown",
   "id": "9f0709f5",
   "metadata": {},
   "source": [
    "Em concordância com o tópico anterior, o gráfico de estimativa de diametros máximos também revela a noção de que, em geral, quanto menor o asteróide, menos risco ele representará."
   ]
  },
  {
   "cell_type": "markdown",
   "id": "cf702fcd",
   "metadata": {},
   "source": [
    "# Conclusão da análise de dados\n",
    "Após criarmos diversos gráficos e analisarmos dados variados, podemos chegar a algumas conclusões quanto às relações existentes entre a nocividade de cada asteróide e outras features presentes no conjunto de dados. Pelo estudo comparativo das colunas (mais especificamente, pela comparação das diferentes características dos fragmentos de corpos celestes com a feature relativa ao perigo representado por ele), podemos enumerar algumas propensões gerais que são importantes para o nosso target:\n",
    "\n",
    "- Asteróides menos velozes (abaixo de 25000) são, em geral, menos nocivos; já os mais velozes (acima de 100000) são, em sua maioria, mais nocivos;\n",
    "- Os asteróides de menor magnitude de nosso dataset são, em geral, mais perigosos que aqueles de maior magnitude;\n",
    "- Em geral, fragmentos de corpos celestes com menores diâmetros mínimos estimados são menos prejudiciais, e vice-versa;\n",
    "- Em geral, fragmentos de corpos celestes com menores diâmetros máximos estimados são menos prejudiciais, e vice-versa.\n",
    "\n",
    "Com tais informações, podemos concluir que, mais do que simplesmente a distância que o objeto está da terra e rota traçada por ele, a nocividade do asteróide pode ser caracterizada a partir de três principais pontos: sua velocidade, sua magnitude e seu tamanho. Assim, com a ajuda de diferentes gráficos e análises, fomos capazes de compreender de modo mais profundo questões inicialmente \"escondidas\" em dados dispersos. Com isso, agora poderemos criar uma rede neural que poderá predizer quais asteróides são prejudiciais e quais não o são."
   ]
  },
  {
   "cell_type": "markdown",
   "id": "814e96b3",
   "metadata": {},
   "source": [
    "# Tratamento de dados para criação de rede neural\n",
    "Além da limpeza e análise dos dados, devemos ainda realizar certas \"adaptações\" no dataset para utilizarmos uma rede neural mais facilmente."
   ]
  },
  {
   "cell_type": "markdown",
   "id": "1d191ce4",
   "metadata": {},
   "source": [
    "## One-hot encoding\n",
    "Antes de prosseguir, precisamos adaptar os dados categóricos que serão usados em nossa rede neural, que melhor suporta valores contínuos. Assim, utilizaremos o one-hot-encoding para converter as informações em 'orbiting_body', 'sentry_object' e 'hazardous' em múltiplas colunas de valores binários (1 para sim, 0 para não). Observe:"
   ]
  },
  {
   "cell_type": "code",
   "execution_count": 65,
   "id": "dfba3323",
   "metadata": {},
   "outputs": [],
   "source": [
    "one_hot_dados = pd.get_dummies(dados, columns=['orbiting_body', 'sentry_object', 'hazardous'])"
   ]
  },
  {
   "cell_type": "markdown",
   "id": "e03d1738",
   "metadata": {},
   "source": [
    "## Divisão entre preditores e alvo\n",
    "Agora, separaremos os dados em X (por convenção, o 'X' é escrito em caixa alta) e y, sendo que o primeiro representa as colunas usadas para fazer as predições e o segundo a coluna target, ou aquela que queremos predizer."
   ]
  },
  {
   "cell_type": "code",
   "execution_count": 106,
   "id": "edd00fef",
   "metadata": {},
   "outputs": [],
   "source": [
    "X = one_hot_dados.drop(columns = ['id', 'name', 'orbiting_body_Earth', 'sentry_object_False', 'hazardous_False', 'hazardous_True'])    # Cria uma variável com os valores usados para prever o target, livre das colunas pouco relevantes \n",
    "y = one_hot_dados['hazardous_True']    # Cria uma variável apenas com os valores do target"
   ]
  },
  {
   "cell_type": "markdown",
   "id": "bb671523",
   "metadata": {},
   "source": [
    "## Normalização de dados\n",
    "A normalização de dados atravéz da função StandardScaler também é essencial em nosso caso, já que as diferentes características de nosso dataset encontram-se em diferentes unidades de medida e apresentam valores muito variados entre si. Veja abaixo:"
   ]
  },
  {
   "cell_type": "code",
   "execution_count": 107,
   "id": "7bbb36c7",
   "metadata": {},
   "outputs": [],
   "source": [
    "from sklearn.preprocessing import StandardScaler\n",
    "scaler = StandardScaler()\n",
    "X = scaler.fit_transform(X)"
   ]
  },
  {
   "cell_type": "markdown",
   "id": "5a62feb8",
   "metadata": {},
   "source": [
    "## Divisão entre treino e teste\n",
    "\n",
    "Por último, dividiremos os dados em treino (70% do dataset) e teste (30% do dataset), que posteriormente será utilizado para avaliarmos o modelo."
   ]
  },
  {
   "cell_type": "code",
   "execution_count": 108,
   "id": "4287719f",
   "metadata": {},
   "outputs": [],
   "source": [
    "from sklearn.model_selection import train_test_split\n",
    "\n",
    "X_treino, X_teste, y_treino, y_teste = train_test_split(X, y, test_size=0.3, random_state=42)"
   ]
  },
  {
   "cell_type": "markdown",
   "id": "0f5e2e1b",
   "metadata": {},
   "source": [
    "# Construção de uma rede neural com keras e tensorflow\n",
    "Agora que nosso dataset encontra-se limpo, analisado e tratado, podemos, finalmente, construir a nossa rede neural. Para isso, utilizaremos o keras, ferramenta simples e intuitiva que têm muito a oferecer em casos de problemas menores como o nosso."
   ]
  },
  {
   "cell_type": "code",
   "execution_count": 109,
   "id": "73520331",
   "metadata": {},
   "outputs": [],
   "source": [
    "import tensorflow as tf\n",
    "from tensorflow import keras"
   ]
  },
  {
   "cell_type": "markdown",
   "id": "e9194580",
   "metadata": {},
   "source": [
    "Após importarmos o keras, podemos construir e treinar a nossa rede neural seguindo apenas três etapas: primeiro, criaremos o nosso modelo e estabeleceremos suas 4 camadas; depois, utilizaremos a função 'compile' para definir a função de custo, seu otimizador e duas métricas que avaliam a performance por outras perspectivas além do custo; e, por último, treinaremos nosso modelo. Lembre-se de ler os comentários, e vamos ao código!"
   ]
  },
  {
   "cell_type": "code",
   "execution_count": 110,
   "id": "93a9d9cf",
   "metadata": {},
   "outputs": [
    {
     "name": "stdout",
     "output_type": "stream",
     "text": [
      "tracking <tf.Variable 'Variable:0' shape=() dtype=int32, numpy=0> tp\n",
      "tracking <tf.Variable 'Variable:0' shape=() dtype=int32, numpy=0> fn\n"
     ]
    }
   ],
   "source": [
    "from tensorflow.keras.models import Sequential\n",
    "from tensorflow.keras.layers import Dense\n",
    "import keras_metrics\n",
    "\n",
    "model = Sequential()    # Cria um modelo do tipo 'sequential', mais comum e simples, em que cada camada recebe exatamente um input e retorna apenas um output (input da camada seguinte). Em seguida, Iremos adicionar suas camadas pelo método 'add()'. \n",
    "model.add(Dense(15, input_dim=5, activation='relu'))    # Define o tamanho do output, o input da primeira camada e a ativação mais básica 'relu'.\n",
    "model.add(Dense(10, activation='relu'))    # Camada oculta em que não é necessário especificar o input, já que a função é do tipo 'sequential' e usará o output da camada anterior. \n",
    "model.add(Dense(10, activation='relu'))    # Outra camada oculta. \n",
    "model.add(Dense(2, activation='softmax'))    # Camada final, que tem como output o número de classificações possíveis (os asteróides são perigosos ou não?) e ativação 'softmax' por se tratar de um problema distribucional.\n",
    "\n",
    "model.compile(loss='sparse_categorical_crossentropy', optimizer='adam', metrics=['accuracy', keras_metrics.recall()])    # Define a função de custo, com otimizador básico 'adam' e métricas acurácia e revocação, sendo a última importante para averiguar se nosso modelo está dando a devida importância aos Falsos Positivos."
   ]
  },
  {
   "cell_type": "markdown",
   "id": "2f615022",
   "metadata": {},
   "source": [
    "Finalmente, podemos treinar o nosso modelo pelo seguinte comando:"
   ]
  },
  {
   "cell_type": "code",
   "execution_count": 111,
   "id": "0988d82e",
   "metadata": {},
   "outputs": [
    {
     "name": "stdout",
     "output_type": "stream",
     "text": [
      "Epoch 1/5\n",
      "1988/1988 [==============================] - 4s 2ms/step - loss: 0.2191 - accuracy: 0.9017 - recall: 0.9616\n",
      "Epoch 2/5\n",
      "1988/1988 [==============================] - 7s 3ms/step - loss: 0.1877 - accuracy: 0.9115 - recall: 0.8772\n",
      "Epoch 3/5\n",
      "1988/1988 [==============================] - 7s 3ms/step - loss: 0.1860 - accuracy: 0.9125 - recall: 0.8495\n",
      "Epoch 4/5\n",
      "1988/1988 [==============================] - 7s 3ms/step - loss: 0.1852 - accuracy: 0.9125 - recall: 0.8387\n",
      "Epoch 5/5\n",
      "1988/1988 [==============================] - 7s 3ms/step - loss: 0.1845 - accuracy: 0.9129 - recall: 0.8340\n"
     ]
    },
    {
     "data": {
      "text/plain": [
       "<tensorflow.python.keras.callbacks.History at 0x1cc5cde0108>"
      ]
     },
     "execution_count": 111,
     "metadata": {},
     "output_type": "execute_result"
    }
   ],
   "source": [
    "model.fit(X_treino, y_treino, epochs=5)"
   ]
  },
  {
   "cell_type": "markdown",
   "id": "8bdf009b",
   "metadata": {},
   "source": [
    "Observando o histórico de valores no treinamento, temos que, embora lentamente, o custo está diminuindo e a acurácia está aumentando. Nosso único empecilho seria, então, o valor apresentado em revocação, decrescente ao invés de crescente. Ainda assim, temos uma revocação relativamente alta, importante neste problema por ser a responsável por avaliar a presença de Falsos Positivos, isto é, asteróides perigosos indevidamente classificados como inofensivos. Além dos valores apresentados durante o treinamento, devemos também verificar se houve qualquer tipo de overfitting através do uso dos dados de teste, que verificarão o desempenho de nosso modelo em um conjunto de dados completamente novo."
   ]
  },
  {
   "cell_type": "code",
   "execution_count": 113,
   "id": "03f33383",
   "metadata": {},
   "outputs": [
    {
     "name": "stdout",
     "output_type": "stream",
     "text": [
      "852/852 [==============================] - 1s 1ms/step - loss: 0.1856 - accuracy: 0.9108 - recall: 0.8342\n",
      "0.18562278151512146 0.9107922911643982 0.8341508507728577\n"
     ]
    }
   ],
   "source": [
    "val_loss, val_accuracy, val_recall = model.evaluate(X_teste, y_teste)\n",
    "print(val_loss, val_accuracy, val_recall)"
   ]
  },
  {
   "cell_type": "markdown",
   "id": "9d0e08e0",
   "metadata": {},
   "source": [
    "Vemos agora que o desempenho do modelo nos dados de teste é mantido, pois, embora exista uma perda em relação aos dados de treino, ela é mínima. Assim, podemos considerar que o modelo cumpre satisfatoriamente seu papel classificatório."
   ]
  }
 ],
 "metadata": {
  "kernelspec": {
   "display_name": "Python 3 (ipykernel)",
   "language": "python",
   "name": "python3"
  },
  "language_info": {
   "codemirror_mode": {
    "name": "ipython",
    "version": 3
   },
   "file_extension": ".py",
   "mimetype": "text/x-python",
   "name": "python",
   "nbconvert_exporter": "python",
   "pygments_lexer": "ipython3",
   "version": "3.7.13"
  }
 },
 "nbformat": 4,
 "nbformat_minor": 5
}
